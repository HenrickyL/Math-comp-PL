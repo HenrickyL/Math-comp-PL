{
 "cells": [
  {
   "cell_type": "code",
   "execution_count": 27,
   "metadata": {},
   "outputs": [],
   "source": [
    "from ortools.linear_solver import pywraplp\n",
    "import numpy as np"
   ]
  },
  {
   "cell_type": "code",
   "execution_count": 38,
   "metadata": {},
   "outputs": [],
   "source": [
    "def transportationProblem(M,S,D,min=True):\n",
    "    lenS= len(S)\n",
    "    lenD= len(D)\n",
    "    solver = pywraplp.Solver.CreateSolver('GLOP')\n",
    "    V = [\n",
    "        [solver.IntVar(0, solver.infinity(),'x{0}{1}'.format(i,j))\n",
    "             for j in range(lenD)] \n",
    "                for i in range(lenS)\n",
    "    ]\n",
    "    Z = sum(M[i][j]*V[i][j] for i in range(lenS) for j in range(lenD))\n",
    "    for i in range(lenS):\n",
    "        solver.Add(\n",
    "            sum(M[i][j]*V[i][j] for j in range(lenD)) <= S[i]) \n",
    "    for j in range(lenD):\n",
    "        solver.Add(\n",
    "            sum(M[i][j]*V[i][j] for i in range(lenS)) >= D[j])\n",
    "    \n",
    "    if(min):\n",
    "        solver.Minimize(Z)\n",
    "    else:\n",
    "        solver.Maximize(Z)\n",
    "    status = solver.Solve()\n",
    "    \n",
    "    if status == pywraplp.Solver.OPTIMAL:\n",
    "        print('Solution:')\n",
    "        print('Objective value =', solver.Objective().Value())\n",
    "        print(['x{0}{1} = {2}'.format(i,j,V[i][j].solution_value()) for i in range(lenS) for j in range(lenD)])\n",
    "    else:\n",
    "        print('The problem does not have an optimal solution.')"
   ]
  },
  {
   "cell_type": "code",
   "execution_count": 39,
   "metadata": {},
   "outputs": [
    {
     "ename": "TypeError",
     "evalue": "unsupported operand type(s) for %: 'Variable' and 'int'",
     "output_type": "error",
     "traceback": [
      "\u001b[1;31m---------------------------------------------------------------------------\u001b[0m",
      "\u001b[1;31mTypeError\u001b[0m                                 Traceback (most recent call last)",
      "\u001b[1;32mc:\\Users\\henri\\Documents\\UFC\\SEMESTRE 7\\Matemática Computacional\\Math-comp-PL\\Trabalho2.ipynb Cell 3'\u001b[0m in \u001b[0;36m<cell line: 5>\u001b[1;34m()\u001b[0m\n\u001b[0;32m      <a href='vscode-notebook-cell:/c%3A/Users/henri/Documents/UFC/SEMESTRE%207/Matem%C3%A1tica%20Computacional/Math-comp-PL/Trabalho2.ipynb#ch0000002?line=1'>2</a>\u001b[0m S \u001b[39m=\u001b[39m np\u001b[39m.\u001b[39mloadtxt(\u001b[39m'\u001b[39m\u001b[39mdataS.txt\u001b[39m\u001b[39m'\u001b[39m)\n\u001b[0;32m      <a href='vscode-notebook-cell:/c%3A/Users/henri/Documents/UFC/SEMESTRE%207/Matem%C3%A1tica%20Computacional/Math-comp-PL/Trabalho2.ipynb#ch0000002?line=2'>3</a>\u001b[0m D \u001b[39m=\u001b[39m np\u001b[39m.\u001b[39mloadtxt(\u001b[39m'\u001b[39m\u001b[39mdataD.txt\u001b[39m\u001b[39m'\u001b[39m)\n\u001b[1;32m----> <a href='vscode-notebook-cell:/c%3A/Users/henri/Documents/UFC/SEMESTRE%207/Matem%C3%A1tica%20Computacional/Math-comp-PL/Trabalho2.ipynb#ch0000002?line=4'>5</a>\u001b[0m transportationProblem(M,S,D)\n",
      "\u001b[1;32mc:\\Users\\henri\\Documents\\UFC\\SEMESTRE 7\\Matemática Computacional\\Math-comp-PL\\Trabalho2.ipynb Cell 2'\u001b[0m in \u001b[0;36mtransportationProblem\u001b[1;34m(M, S, D, min)\u001b[0m\n\u001b[0;32m     <a href='vscode-notebook-cell:/c%3A/Users/henri/Documents/UFC/SEMESTRE%207/Matem%C3%A1tica%20Computacional/Math-comp-PL/Trabalho2.ipynb#ch0000001?line=16'>17</a>\u001b[0m \u001b[39mfor\u001b[39;00m j \u001b[39min\u001b[39;00m \u001b[39mrange\u001b[39m(lenD):\n\u001b[0;32m     <a href='vscode-notebook-cell:/c%3A/Users/henri/Documents/UFC/SEMESTRE%207/Matem%C3%A1tica%20Computacional/Math-comp-PL/Trabalho2.ipynb#ch0000001?line=17'>18</a>\u001b[0m     \u001b[39mfor\u001b[39;00m i \u001b[39min\u001b[39;00m \u001b[39mrange\u001b[39m(lenS):\n\u001b[1;32m---> <a href='vscode-notebook-cell:/c%3A/Users/henri/Documents/UFC/SEMESTRE%207/Matem%C3%A1tica%20Computacional/Math-comp-PL/Trabalho2.ipynb#ch0000001?line=18'>19</a>\u001b[0m         solver\u001b[39m.\u001b[39mAdd(V[i][j]\u001b[39m%\u001b[39;49m\u001b[39m1\u001b[39;49m \u001b[39m==\u001b[39m \u001b[39m0\u001b[39m )\n\u001b[0;32m     <a href='vscode-notebook-cell:/c%3A/Users/henri/Documents/UFC/SEMESTRE%207/Matem%C3%A1tica%20Computacional/Math-comp-PL/Trabalho2.ipynb#ch0000001?line=19'>20</a>\u001b[0m \u001b[39mif\u001b[39;00m(\u001b[39mmin\u001b[39m):\n\u001b[0;32m     <a href='vscode-notebook-cell:/c%3A/Users/henri/Documents/UFC/SEMESTRE%207/Matem%C3%A1tica%20Computacional/Math-comp-PL/Trabalho2.ipynb#ch0000001?line=20'>21</a>\u001b[0m     solver\u001b[39m.\u001b[39mMinimize(Z)\n",
      "\u001b[1;31mTypeError\u001b[0m: unsupported operand type(s) for %: 'Variable' and 'int'"
     ]
    }
   ],
   "source": [
    "M = np.loadtxt('data.txt')\n",
    "S = np.loadtxt('dataS.txt')\n",
    "D = np.loadtxt('dataD.txt')\n",
    "\n",
    "transportationProblem(M,S,D)"
   ]
  },
  {
   "cell_type": "markdown",
   "metadata": {},
   "source": []
  },
  {
   "cell_type": "code",
   "execution_count": null,
   "metadata": {},
   "outputs": [],
   "source": []
  },
  {
   "cell_type": "code",
   "execution_count": null,
   "metadata": {},
   "outputs": [],
   "source": []
  }
 ],
 "metadata": {
  "kernelspec": {
   "display_name": "Python 3.10.4 64-bit",
   "language": "python",
   "name": "python3"
  },
  "language_info": {
   "codemirror_mode": {
    "name": "ipython",
    "version": 3
   },
   "file_extension": ".py",
   "mimetype": "text/x-python",
   "name": "python",
   "nbconvert_exporter": "python",
   "pygments_lexer": "ipython3",
   "version": "3.10.4"
  },
  "orig_nbformat": 4,
  "vscode": {
   "interpreter": {
    "hash": "369f2c481f4da34e4445cda3fffd2e751bd1c4d706f27375911949ba6bb62e1c"
   }
  }
 },
 "nbformat": 4,
 "nbformat_minor": 2
}
