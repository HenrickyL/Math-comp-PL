{
 "cells": [
  {
   "cell_type": "code",
   "execution_count": 4,
   "metadata": {},
   "outputs": [],
   "source": [
    "from ortools.linear_solver import pywraplp\n",
    "import numpy as np"
   ]
  },
  {
   "cell_type": "code",
   "execution_count": 5,
   "metadata": {},
   "outputs": [],
   "source": [
    "def transportationProblem(M,S,D):\n",
    "    lenS= len(S)\n",
    "    lenD= len(D)\n",
    "    solver = pywraplp.Solver.CreateSolver('GLOP')\n",
    "    V = [\n",
    "       solver.NumVar(0, solver.infinity(),'x{0}{1}'.format(i,j))\n",
    "        for i in range(lenS) for j in range(lenD)\n",
    "        ]\n",
    "    Z = sum(M[i][j]*V[i+j] for i in range(lenS) for j in range(lenD))\n",
    "    # solver.Add(\n",
    "        # sum(M[i][j]*V[i+j] for i in range(lenS) for j in range(lenD)))\n",
    "\n",
    "\n",
    "    print(V)\n",
    "    print(Z)\n",
    "    print(M[i][j]+'*'+V[i+j] for i in range(lenS) for j in range(lenD))\n"
   ]
  },
  {
   "cell_type": "code",
   "execution_count": 6,
   "metadata": {},
   "outputs": [
    {
     "ename": "AttributeError",
     "evalue": "'SumArray' object has no attribute 'Extract'",
     "output_type": "error",
     "traceback": [
      "\u001b[1;31m---------------------------------------------------------------------------\u001b[0m",
      "\u001b[1;31mAttributeError\u001b[0m                            Traceback (most recent call last)",
      "\u001b[1;32mc:\\Users\\henri\\Documents\\UFC\\SEMESTRE 7\\Matemática Computacional\\Math-comp-PL\\Trabalho2.ipynb Cell 3'\u001b[0m in \u001b[0;36m<cell line: 5>\u001b[1;34m()\u001b[0m\n\u001b[0;32m      <a href='vscode-notebook-cell:/c%3A/Users/henri/Documents/UFC/SEMESTRE%207/Matem%C3%A1tica%20Computacional/Math-comp-PL/Trabalho2.ipynb#ch0000005?line=1'>2</a>\u001b[0m S \u001b[39m=\u001b[39m np\u001b[39m.\u001b[39mloadtxt(\u001b[39m'\u001b[39m\u001b[39mdataS.txt\u001b[39m\u001b[39m'\u001b[39m)\n\u001b[0;32m      <a href='vscode-notebook-cell:/c%3A/Users/henri/Documents/UFC/SEMESTRE%207/Matem%C3%A1tica%20Computacional/Math-comp-PL/Trabalho2.ipynb#ch0000005?line=2'>3</a>\u001b[0m D \u001b[39m=\u001b[39m np\u001b[39m.\u001b[39mloadtxt(\u001b[39m'\u001b[39m\u001b[39mdataD.txt\u001b[39m\u001b[39m'\u001b[39m)\n\u001b[1;32m----> <a href='vscode-notebook-cell:/c%3A/Users/henri/Documents/UFC/SEMESTRE%207/Matem%C3%A1tica%20Computacional/Math-comp-PL/Trabalho2.ipynb#ch0000005?line=4'>5</a>\u001b[0m transportationProblem(M,S,D)\n",
      "\u001b[1;32mc:\\Users\\henri\\Documents\\UFC\\SEMESTRE 7\\Matemática Computacional\\Math-comp-PL\\Trabalho2.ipynb Cell 2'\u001b[0m in \u001b[0;36mtransportationProblem\u001b[1;34m(M, S, D)\u001b[0m\n\u001b[0;32m      <a href='vscode-notebook-cell:/c%3A/Users/henri/Documents/UFC/SEMESTRE%207/Matem%C3%A1tica%20Computacional/Math-comp-PL/Trabalho2.ipynb#ch0000001?line=4'>5</a>\u001b[0m V \u001b[39m=\u001b[39m [\n\u001b[0;32m      <a href='vscode-notebook-cell:/c%3A/Users/henri/Documents/UFC/SEMESTRE%207/Matem%C3%A1tica%20Computacional/Math-comp-PL/Trabalho2.ipynb#ch0000001?line=5'>6</a>\u001b[0m    solver\u001b[39m.\u001b[39mNumVar(\u001b[39m0\u001b[39m, solver\u001b[39m.\u001b[39minfinity(),\u001b[39m'\u001b[39m\u001b[39mx\u001b[39m\u001b[39m{0}\u001b[39;00m\u001b[39m{1}\u001b[39;00m\u001b[39m'\u001b[39m\u001b[39m.\u001b[39mformat(i,j))\n\u001b[0;32m      <a href='vscode-notebook-cell:/c%3A/Users/henri/Documents/UFC/SEMESTRE%207/Matem%C3%A1tica%20Computacional/Math-comp-PL/Trabalho2.ipynb#ch0000001?line=6'>7</a>\u001b[0m     \u001b[39mfor\u001b[39;00m i \u001b[39min\u001b[39;00m \u001b[39mrange\u001b[39m(lenS) \u001b[39mfor\u001b[39;00m j \u001b[39min\u001b[39;00m \u001b[39mrange\u001b[39m(lenD)\n\u001b[0;32m      <a href='vscode-notebook-cell:/c%3A/Users/henri/Documents/UFC/SEMESTRE%207/Matem%C3%A1tica%20Computacional/Math-comp-PL/Trabalho2.ipynb#ch0000001?line=7'>8</a>\u001b[0m     ]\n\u001b[0;32m      <a href='vscode-notebook-cell:/c%3A/Users/henri/Documents/UFC/SEMESTRE%207/Matem%C3%A1tica%20Computacional/Math-comp-PL/Trabalho2.ipynb#ch0000001?line=8'>9</a>\u001b[0m Z \u001b[39m=\u001b[39m \u001b[39msum\u001b[39m(M[i][j]\u001b[39m*\u001b[39mV[i\u001b[39m+\u001b[39mj] \u001b[39mfor\u001b[39;00m i \u001b[39min\u001b[39;00m \u001b[39mrange\u001b[39m(lenS) \u001b[39mfor\u001b[39;00m j \u001b[39min\u001b[39;00m \u001b[39mrange\u001b[39m(lenD))\n\u001b[1;32m---> <a href='vscode-notebook-cell:/c%3A/Users/henri/Documents/UFC/SEMESTRE%207/Matem%C3%A1tica%20Computacional/Math-comp-PL/Trabalho2.ipynb#ch0000001?line=9'>10</a>\u001b[0m solver\u001b[39m.\u001b[39;49mAdd(\n\u001b[0;32m     <a href='vscode-notebook-cell:/c%3A/Users/henri/Documents/UFC/SEMESTRE%207/Matem%C3%A1tica%20Computacional/Math-comp-PL/Trabalho2.ipynb#ch0000001?line=10'>11</a>\u001b[0m     \u001b[39msum\u001b[39;49m(M[i][j]\u001b[39m*\u001b[39;49mV[i\u001b[39m+\u001b[39;49mj] \u001b[39mfor\u001b[39;49;00m i \u001b[39min\u001b[39;49;00m \u001b[39mrange\u001b[39;49m(lenS) \u001b[39mfor\u001b[39;49;00m j \u001b[39min\u001b[39;49;00m \u001b[39mrange\u001b[39;49m(lenD)))\n\u001b[0;32m     <a href='vscode-notebook-cell:/c%3A/Users/henri/Documents/UFC/SEMESTRE%207/Matem%C3%A1tica%20Computacional/Math-comp-PL/Trabalho2.ipynb#ch0000001?line=13'>14</a>\u001b[0m \u001b[39mprint\u001b[39m(V)\n\u001b[0;32m     <a href='vscode-notebook-cell:/c%3A/Users/henri/Documents/UFC/SEMESTRE%207/Matem%C3%A1tica%20Computacional/Math-comp-PL/Trabalho2.ipynb#ch0000001?line=14'>15</a>\u001b[0m \u001b[39mprint\u001b[39m(Z)\n",
      "File \u001b[1;32m~\\AppData\\Roaming\\Python\\Python310\\site-packages\\ortools\\linear_solver\\pywraplp.py:486\u001b[0m, in \u001b[0;36mSolver.Add\u001b[1;34m(self, constraint, name)\u001b[0m\n\u001b[0;32m    484\u001b[0m     \u001b[39mreturn\u001b[39;00m \u001b[39mself\u001b[39m\u001b[39m.\u001b[39mRowConstraint(\u001b[39m1\u001b[39m, \u001b[39m1\u001b[39m, name)\n\u001b[0;32m    485\u001b[0m \u001b[39melse\u001b[39;00m:\n\u001b[1;32m--> 486\u001b[0m   \u001b[39mreturn\u001b[39;00m constraint\u001b[39m.\u001b[39;49mExtract(\u001b[39mself\u001b[39m, name)\n",
      "\u001b[1;31mAttributeError\u001b[0m: 'SumArray' object has no attribute 'Extract'"
     ]
    }
   ],
   "source": [
    "M = np.loadtxt('data.txt')\n",
    "S = np.loadtxt('dataS.txt')\n",
    "D = np.loadtxt('dataD.txt')\n",
    "\n",
    "transportationProblem(M,S,D)\n"
   ]
  },
  {
   "cell_type": "code",
   "execution_count": null,
   "metadata": {},
   "outputs": [],
   "source": []
  }
 ],
 "metadata": {
  "language_info": {
   "name": "python"
  },
  "orig_nbformat": 4
 },
 "nbformat": 4,
 "nbformat_minor": 2
}
