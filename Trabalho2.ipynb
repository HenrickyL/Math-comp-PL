{
 "cells": [
  {
   "cell_type": "code",
   "execution_count": 40,
   "metadata": {},
   "outputs": [],
   "source": [
    "from ortools.linear_solver import pywraplp\n",
    "import numpy as np\n",
    "from random import randint\n",
    "import os\n",
    "import glob"
   ]
  },
  {
   "cell_type": "code",
   "execution_count": 49,
   "metadata": {},
   "outputs": [],
   "source": [
    "def transportationProblem(M,S,D,min=True):\n",
    "    lenS= len(S)\n",
    "    lenD= len(D)\n",
    "    solver = pywraplp.Solver.CreateSolver('GLOP')\n",
    "    #solver.use_dual_simplex = True\n",
    "    V = [\n",
    "        [solver.NumVar(0,solver.infinity(),'x{0}{1}'.format(i,j))\n",
    "             for j in range(lenD)] \n",
    "                for i in range(lenS)\n",
    "    ]\n",
    "    Z = sum(M[i][j]*V[i][j] for i in range(lenS) for j in range(lenD))\n",
    "    for i in range(lenS):\n",
    "        solver.Add(\n",
    "            sum(V[i][j] for j in range(lenD)) <= S[i]) \n",
    "    for j in range(lenD):\n",
    "        solver.Add(\n",
    "            sum(V[i][j] for i in range(lenS)) >= D[j])\n",
    "    \n",
    "    if(min):\n",
    "        solver.Minimize(Z)\n",
    "    else:\n",
    "        solver.Maximize(Z)\n",
    "    status = solver.Solve()\n",
    "    \n",
    "    if status == pywraplp.Solver.OPTIMAL:\n",
    "        print('Solution:')\n",
    "        print('Objective value =', solver.Objective().Value())\n",
    "        print(['x{0}{1} = {2}'.format(i,j,round(V[i][j].solution_value())) for i in range(lenS) for j in range(lenD)])\n",
    "        print('\\nAdvanced usage:')\n",
    "        print('Problem solved in %f milliseconds' % solver.wall_time())\n",
    "        print('Problem solved in %d iterations' % solver.iterations())\n",
    "    else:\n",
    "        print('<The problem does not have an optimal solution.>')"
   ]
  },
  {
   "cell_type": "code",
   "execution_count": 48,
   "metadata": {},
   "outputs": [
    {
     "name": "stdout",
     "output_type": "stream",
     "text": [
      "[20, 66]\n",
      "[69, 75]\n",
      "[[9, 8], [3, 10]]\n",
      "<The problem does not have an optimal solution.>\n"
     ]
    }
   ],
   "source": [
    "def GenerateData(instances =10, lenS = 100, lenD=100, maxSend=20,  valid=False ):\n",
    "    for i in range(instances):\n",
    "        S = [randint(0,100) for i in range(lenS)]\n",
    "        D = [randint(0,100) for i in range(lenD)]\n",
    "        M = [ [randint(0,maxSend) for i in range(lenS)] for j in range(lenD)]\n",
    "        print(S)\n",
    "        print(D)\n",
    "        print(M)\n",
    "        transportationProblem(M,S,D)\n",
    "        #files\n",
    "        files = glob.glob('data/*')\n",
    "        for f in files:\n",
    "            os.remove(f)\n",
    "        fo = open(\"data/dataS{0}.txt\".format(i), \"w\")\n",
    "        for x in range(lenS): fo.write('{0} '.format(S[x]))\n",
    "        fo.close()\n",
    "        fo = open(\"data/dataD{0}.txt\".format(i), \"w\")\n",
    "        for x in range(lenD): fo.write('{0} '.format(D[x]))\n",
    "        fo.close()\n",
    "        fo = open(\"data/data{0}.txt\".format(i), \"w\")\n",
    "        for x in range(lenS): \n",
    "            for y in range(lenD): \n",
    "                fo.write('{0} '.format(M[x][y]))\n",
    "            fo.write('\\n')\n",
    "        fo.close()\n",
    "\n",
    "GenerateData(1, 2, 2 )        "
   ]
  },
  {
   "cell_type": "code",
   "execution_count": 9,
   "metadata": {},
   "outputs": [
    {
     "name": "stdout",
     "output_type": "stream",
     "text": [
      "Solution:\n",
      "Objective value = 35.0\n",
      "['x00 = 1', 'x01 = 6', 'x02 = 3', 'x10 = 0', 'x11 = 0', 'x12 = 0', 'x20 = 0', 'x21 = 0', 'x22 = 2', 'x30 = 8', 'x31 = 0', 'x32 = 0']\n"
     ]
    }
   ],
   "source": [
    "M = np.loadtxt('data.txt')\n",
    "S = np.loadtxt('dataS.txt')\n",
    "D = np.loadtxt('dataD.txt')\n",
    "\n",
    "transportationProblem(M,S,D)"
   ]
  },
  {
   "cell_type": "markdown",
   "metadata": {},
   "source": []
  },
  {
   "cell_type": "code",
   "execution_count": 46,
   "metadata": {},
   "outputs": [
    {
     "data": {
      "text/plain": [
       "' exemple\\n\\n    [[0,5],\\n     [2,6]],   [76,95],[69,81]\\n    [[1,1,0,0,  76],\\n     [0,0,1,1,  95],\\n     [1,0,1,0,  69],\\n     [0,1,0,1,  81]],   [76,95],[69,81]\\n     \\n\\n'"
      ]
     },
     "execution_count": 46,
     "metadata": {},
     "output_type": "execute_result"
    }
   ],
   "source": [
    "def transportationProblemDual(M,S,D):\n",
    "    lenS = len(S)\n",
    "    lenD = len(D)\n",
    "    Z = [M[i][j] for i in range(lenS) for j in range(lenD)]\n",
    "    #...\n",
    "\n",
    "\n",
    "def dual(M):\n",
    "    tamL = len(M)\n",
    "    tamC = len(M[0])\n",
    "    Z = M[0]\n",
    "    M.pop(0)\n",
    "    M_t = list(map(list, zip(*M))) # transposta de M\n",
    "    D = M_t[tamL-1]\n",
    "    M_t.pop(tamL-1)\n",
    "    for i in range(len(M_t)):\n",
    "        M_t[i].insert(tamC,Z[i])\n",
    "\n",
    "    return M_t,D\n",
    "    \n",
    "    \n",
    "\n",
    "dual([[1,2,3,0],\n",
    "     [1,1,1,10],\n",
    "     [2,1,4,12],\n",
    "     [1,3,-1,9]])\n",
    "    \n",
    "    \n",
    "\n",
    "transportationProblemDual([[0,5],\n",
    "                           [2,6]],   [76,95],[69,81])\n",
    "\"\"\" exemple\n",
    "\n",
    "    [[0,5],\n",
    "     [2,6]],   [76,95],[69,81]\n",
    "     |\n",
    "     v\n",
    "    [[0,5,2,6,   0] # Z\n",
    "     [1,1,0,0,  76],\n",
    "     [0,0,1,1,  95],\n",
    "     [1,0,1,0,  69],\n",
    "     [0,1,0,1,  81]]\n",
    "     \n",
    "\n",
    "\"\"\""
   ]
  },
  {
   "cell_type": "code",
   "execution_count": 19,
   "metadata": {},
   "outputs": [
    {
     "data": {
      "text/plain": [
       "<generator object <genexpr> at 0x000001F7C88AED50>"
      ]
     },
     "execution_count": 19,
     "metadata": {},
     "output_type": "execute_result"
    }
   ],
   "source": []
  },
  {
   "cell_type": "code",
   "execution_count": null,
   "metadata": {},
   "outputs": [],
   "source": []
  }
 ],
 "metadata": {
  "kernelspec": {
   "display_name": "Python 3.10.4 64-bit",
   "language": "python",
   "name": "python3"
  },
  "language_info": {
   "codemirror_mode": {
    "name": "ipython",
    "version": 3
   },
   "file_extension": ".py",
   "mimetype": "text/x-python",
   "name": "python",
   "nbconvert_exporter": "python",
   "pygments_lexer": "ipython3",
   "version": "3.10.4"
  },
  "orig_nbformat": 4,
  "vscode": {
   "interpreter": {
    "hash": "369f2c481f4da34e4445cda3fffd2e751bd1c4d706f27375911949ba6bb62e1c"
   }
  }
 },
 "nbformat": 4,
 "nbformat_minor": 2
}
